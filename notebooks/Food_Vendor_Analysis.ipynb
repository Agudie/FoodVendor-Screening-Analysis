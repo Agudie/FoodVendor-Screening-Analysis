# Food Vendor Analysis Notebook
import pandas as pd
import matplotlib.pyplot as plt

# Load data
data = pd.read_csv("../data/raw_data.csv") 

# Gender distribution
gender_counts = data['Gender'].value_counts()
gender_counts.plot(kind='bar')
plt.title("Gender Distribution of Food Vendors")
plt.savefig("../visuals/gender_distribution.png")
